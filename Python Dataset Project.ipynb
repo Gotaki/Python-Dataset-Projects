{
 "cells": [
  {
   "cell_type": "markdown",
   "source": [
    "# COMP3160: Assignment 1 (Specification Ver 2 -- updated: 2021-08-28)\n",
    "\n",
    "\n",
    "For this assignment, you will use the Pima Indians diabetes dataset that comes originally from the National Institute of Diabetes. It uses real world medical data about female patients of Pima Indian heritage and contains information about whether these patients had an onset of diabetes within five years or not. It is a binary classification problem. The data is available as a single csv file and contains missing values ('0') in some columns. The assignment follows the workflow of a simple data science project and you will use a K-nearest neighbor classifier and then compare this classifier with three other classifiers.\n",
    "\n",
    "The entire assignment is worth 20 marks and consists of 12 tasks. \n",
    "\n",
    "For each task, marks will be awarded for the output and for the quality of code (the code does what it should; follows a consistent style, and is easy to understand)."
   ],
   "metadata": {}
  },
  {
   "cell_type": "code",
   "execution_count": 1303,
   "source": [
    "import numpy as np \r\n",
    "import pandas as pd\r\n",
    "import matplotlib.pyplot as plt\r\n",
    "import seaborn as sns\r\n",
    "\r\n",
    "from sklearn import preprocessing\r\n",
    "random_state = 42"
   ],
   "outputs": [],
   "metadata": {}
  },
  {
   "cell_type": "code",
   "execution_count": 1304,
   "source": [
    "df = pd.read_csv('pima-indians-diabetes.csv')"
   ],
   "outputs": [],
   "metadata": {}
  },
  {
   "cell_type": "code",
   "execution_count": 1305,
   "source": [
    "df.describe()"
   ],
   "outputs": [
    {
     "output_type": "execute_result",
     "data": {
      "text/html": [
       "<div>\n",
       "<style scoped>\n",
       "    .dataframe tbody tr th:only-of-type {\n",
       "        vertical-align: middle;\n",
       "    }\n",
       "\n",
       "    .dataframe tbody tr th {\n",
       "        vertical-align: top;\n",
       "    }\n",
       "\n",
       "    .dataframe thead th {\n",
       "        text-align: right;\n",
       "    }\n",
       "</style>\n",
       "<table border=\"1\" class=\"dataframe\">\n",
       "  <thead>\n",
       "    <tr style=\"text-align: right;\">\n",
       "      <th></th>\n",
       "      <th>Pregnancies</th>\n",
       "      <th>Glucose</th>\n",
       "      <th>BloodPressure</th>\n",
       "      <th>SkinThickness</th>\n",
       "      <th>Insulin</th>\n",
       "      <th>BMI</th>\n",
       "      <th>DiabetesPedigreeFunction</th>\n",
       "      <th>Age</th>\n",
       "      <th>Outcome</th>\n",
       "    </tr>\n",
       "  </thead>\n",
       "  <tbody>\n",
       "    <tr>\n",
       "      <th>count</th>\n",
       "      <td>768.000000</td>\n",
       "      <td>768.000000</td>\n",
       "      <td>768.000000</td>\n",
       "      <td>768.000000</td>\n",
       "      <td>768.000000</td>\n",
       "      <td>768.000000</td>\n",
       "      <td>768.000000</td>\n",
       "      <td>768.000000</td>\n",
       "      <td>768.000000</td>\n",
       "    </tr>\n",
       "    <tr>\n",
       "      <th>mean</th>\n",
       "      <td>3.845052</td>\n",
       "      <td>120.894531</td>\n",
       "      <td>69.105469</td>\n",
       "      <td>20.536458</td>\n",
       "      <td>79.799479</td>\n",
       "      <td>31.992578</td>\n",
       "      <td>0.471876</td>\n",
       "      <td>33.240885</td>\n",
       "      <td>0.348958</td>\n",
       "    </tr>\n",
       "    <tr>\n",
       "      <th>std</th>\n",
       "      <td>3.369578</td>\n",
       "      <td>31.972618</td>\n",
       "      <td>19.355807</td>\n",
       "      <td>15.952218</td>\n",
       "      <td>115.244002</td>\n",
       "      <td>7.884160</td>\n",
       "      <td>0.331329</td>\n",
       "      <td>11.760232</td>\n",
       "      <td>0.476951</td>\n",
       "    </tr>\n",
       "    <tr>\n",
       "      <th>min</th>\n",
       "      <td>0.000000</td>\n",
       "      <td>0.000000</td>\n",
       "      <td>0.000000</td>\n",
       "      <td>0.000000</td>\n",
       "      <td>0.000000</td>\n",
       "      <td>0.000000</td>\n",
       "      <td>0.078000</td>\n",
       "      <td>21.000000</td>\n",
       "      <td>0.000000</td>\n",
       "    </tr>\n",
       "    <tr>\n",
       "      <th>25%</th>\n",
       "      <td>1.000000</td>\n",
       "      <td>99.000000</td>\n",
       "      <td>62.000000</td>\n",
       "      <td>0.000000</td>\n",
       "      <td>0.000000</td>\n",
       "      <td>27.300000</td>\n",
       "      <td>0.243750</td>\n",
       "      <td>24.000000</td>\n",
       "      <td>0.000000</td>\n",
       "    </tr>\n",
       "    <tr>\n",
       "      <th>50%</th>\n",
       "      <td>3.000000</td>\n",
       "      <td>117.000000</td>\n",
       "      <td>72.000000</td>\n",
       "      <td>23.000000</td>\n",
       "      <td>30.500000</td>\n",
       "      <td>32.000000</td>\n",
       "      <td>0.372500</td>\n",
       "      <td>29.000000</td>\n",
       "      <td>0.000000</td>\n",
       "    </tr>\n",
       "    <tr>\n",
       "      <th>75%</th>\n",
       "      <td>6.000000</td>\n",
       "      <td>140.250000</td>\n",
       "      <td>80.000000</td>\n",
       "      <td>32.000000</td>\n",
       "      <td>127.250000</td>\n",
       "      <td>36.600000</td>\n",
       "      <td>0.626250</td>\n",
       "      <td>41.000000</td>\n",
       "      <td>1.000000</td>\n",
       "    </tr>\n",
       "    <tr>\n",
       "      <th>max</th>\n",
       "      <td>17.000000</td>\n",
       "      <td>199.000000</td>\n",
       "      <td>122.000000</td>\n",
       "      <td>99.000000</td>\n",
       "      <td>846.000000</td>\n",
       "      <td>67.100000</td>\n",
       "      <td>2.420000</td>\n",
       "      <td>81.000000</td>\n",
       "      <td>1.000000</td>\n",
       "    </tr>\n",
       "  </tbody>\n",
       "</table>\n",
       "</div>"
      ],
      "text/plain": [
       "       Pregnancies     Glucose  BloodPressure  SkinThickness     Insulin  \\\n",
       "count   768.000000  768.000000     768.000000     768.000000  768.000000   \n",
       "mean      3.845052  120.894531      69.105469      20.536458   79.799479   \n",
       "std       3.369578   31.972618      19.355807      15.952218  115.244002   \n",
       "min       0.000000    0.000000       0.000000       0.000000    0.000000   \n",
       "25%       1.000000   99.000000      62.000000       0.000000    0.000000   \n",
       "50%       3.000000  117.000000      72.000000      23.000000   30.500000   \n",
       "75%       6.000000  140.250000      80.000000      32.000000  127.250000   \n",
       "max      17.000000  199.000000     122.000000      99.000000  846.000000   \n",
       "\n",
       "              BMI  DiabetesPedigreeFunction         Age     Outcome  \n",
       "count  768.000000                768.000000  768.000000  768.000000  \n",
       "mean    31.992578                  0.471876   33.240885    0.348958  \n",
       "std      7.884160                  0.331329   11.760232    0.476951  \n",
       "min      0.000000                  0.078000   21.000000    0.000000  \n",
       "25%     27.300000                  0.243750   24.000000    0.000000  \n",
       "50%     32.000000                  0.372500   29.000000    0.000000  \n",
       "75%     36.600000                  0.626250   41.000000    1.000000  \n",
       "max     67.100000                  2.420000   81.000000    1.000000  "
      ]
     },
     "metadata": {},
     "execution_count": 1305
    }
   ],
   "metadata": {}
  },
  {
   "cell_type": "code",
   "execution_count": 1306,
   "source": [
    "df.head()"
   ],
   "outputs": [
    {
     "output_type": "execute_result",
     "data": {
      "text/html": [
       "<div>\n",
       "<style scoped>\n",
       "    .dataframe tbody tr th:only-of-type {\n",
       "        vertical-align: middle;\n",
       "    }\n",
       "\n",
       "    .dataframe tbody tr th {\n",
       "        vertical-align: top;\n",
       "    }\n",
       "\n",
       "    .dataframe thead th {\n",
       "        text-align: right;\n",
       "    }\n",
       "</style>\n",
       "<table border=\"1\" class=\"dataframe\">\n",
       "  <thead>\n",
       "    <tr style=\"text-align: right;\">\n",
       "      <th></th>\n",
       "      <th>Pregnancies</th>\n",
       "      <th>Glucose</th>\n",
       "      <th>BloodPressure</th>\n",
       "      <th>SkinThickness</th>\n",
       "      <th>Insulin</th>\n",
       "      <th>BMI</th>\n",
       "      <th>DiabetesPedigreeFunction</th>\n",
       "      <th>Age</th>\n",
       "      <th>Outcome</th>\n",
       "    </tr>\n",
       "  </thead>\n",
       "  <tbody>\n",
       "    <tr>\n",
       "      <th>0</th>\n",
       "      <td>6</td>\n",
       "      <td>148</td>\n",
       "      <td>72</td>\n",
       "      <td>35</td>\n",
       "      <td>0</td>\n",
       "      <td>33.6</td>\n",
       "      <td>0.627</td>\n",
       "      <td>50</td>\n",
       "      <td>1</td>\n",
       "    </tr>\n",
       "    <tr>\n",
       "      <th>1</th>\n",
       "      <td>1</td>\n",
       "      <td>85</td>\n",
       "      <td>66</td>\n",
       "      <td>29</td>\n",
       "      <td>0</td>\n",
       "      <td>26.6</td>\n",
       "      <td>0.351</td>\n",
       "      <td>31</td>\n",
       "      <td>0</td>\n",
       "    </tr>\n",
       "    <tr>\n",
       "      <th>2</th>\n",
       "      <td>8</td>\n",
       "      <td>183</td>\n",
       "      <td>64</td>\n",
       "      <td>0</td>\n",
       "      <td>0</td>\n",
       "      <td>23.3</td>\n",
       "      <td>0.672</td>\n",
       "      <td>32</td>\n",
       "      <td>1</td>\n",
       "    </tr>\n",
       "    <tr>\n",
       "      <th>3</th>\n",
       "      <td>1</td>\n",
       "      <td>89</td>\n",
       "      <td>66</td>\n",
       "      <td>23</td>\n",
       "      <td>94</td>\n",
       "      <td>28.1</td>\n",
       "      <td>0.167</td>\n",
       "      <td>21</td>\n",
       "      <td>0</td>\n",
       "    </tr>\n",
       "    <tr>\n",
       "      <th>4</th>\n",
       "      <td>0</td>\n",
       "      <td>137</td>\n",
       "      <td>40</td>\n",
       "      <td>35</td>\n",
       "      <td>168</td>\n",
       "      <td>43.1</td>\n",
       "      <td>2.288</td>\n",
       "      <td>33</td>\n",
       "      <td>1</td>\n",
       "    </tr>\n",
       "  </tbody>\n",
       "</table>\n",
       "</div>"
      ],
      "text/plain": [
       "   Pregnancies  Glucose  BloodPressure  SkinThickness  Insulin   BMI  \\\n",
       "0            6      148             72             35        0  33.6   \n",
       "1            1       85             66             29        0  26.6   \n",
       "2            8      183             64              0        0  23.3   \n",
       "3            1       89             66             23       94  28.1   \n",
       "4            0      137             40             35      168  43.1   \n",
       "\n",
       "   DiabetesPedigreeFunction  Age  Outcome  \n",
       "0                     0.627   50        1  \n",
       "1                     0.351   31        0  \n",
       "2                     0.672   32        1  \n",
       "3                     0.167   21        0  \n",
       "4                     2.288   33        1  "
      ]
     },
     "metadata": {},
     "execution_count": 1306
    }
   ],
   "metadata": {}
  },
  {
   "cell_type": "markdown",
   "source": [
    "## A. Pre-processing"
   ],
   "metadata": {}
  },
  {
   "cell_type": "markdown",
   "source": [
    "**Task 1**: Replace all '0' in the data frame apart from those in the Pregnancies and Outcome columns by NaN, then display the head of the data frame and print out the number of missing values for each feature. [2 marks]"
   ],
   "metadata": {}
  },
  {
   "cell_type": "code",
   "execution_count": 1307,
   "source": [
    "for x in df.columns:\r\n",
    "    if x != 'Pregnancies':\r\n",
    "        if x != 'Outcome':\r\n",
    "            df[x].replace({0:np.nan}, inplace = True)\r\n",
    "df.head()"
   ],
   "outputs": [
    {
     "output_type": "execute_result",
     "data": {
      "text/html": [
       "<div>\n",
       "<style scoped>\n",
       "    .dataframe tbody tr th:only-of-type {\n",
       "        vertical-align: middle;\n",
       "    }\n",
       "\n",
       "    .dataframe tbody tr th {\n",
       "        vertical-align: top;\n",
       "    }\n",
       "\n",
       "    .dataframe thead th {\n",
       "        text-align: right;\n",
       "    }\n",
       "</style>\n",
       "<table border=\"1\" class=\"dataframe\">\n",
       "  <thead>\n",
       "    <tr style=\"text-align: right;\">\n",
       "      <th></th>\n",
       "      <th>Pregnancies</th>\n",
       "      <th>Glucose</th>\n",
       "      <th>BloodPressure</th>\n",
       "      <th>SkinThickness</th>\n",
       "      <th>Insulin</th>\n",
       "      <th>BMI</th>\n",
       "      <th>DiabetesPedigreeFunction</th>\n",
       "      <th>Age</th>\n",
       "      <th>Outcome</th>\n",
       "    </tr>\n",
       "  </thead>\n",
       "  <tbody>\n",
       "    <tr>\n",
       "      <th>0</th>\n",
       "      <td>6</td>\n",
       "      <td>148.0</td>\n",
       "      <td>72.0</td>\n",
       "      <td>35.0</td>\n",
       "      <td>NaN</td>\n",
       "      <td>33.6</td>\n",
       "      <td>0.627</td>\n",
       "      <td>50</td>\n",
       "      <td>1</td>\n",
       "    </tr>\n",
       "    <tr>\n",
       "      <th>1</th>\n",
       "      <td>1</td>\n",
       "      <td>85.0</td>\n",
       "      <td>66.0</td>\n",
       "      <td>29.0</td>\n",
       "      <td>NaN</td>\n",
       "      <td>26.6</td>\n",
       "      <td>0.351</td>\n",
       "      <td>31</td>\n",
       "      <td>0</td>\n",
       "    </tr>\n",
       "    <tr>\n",
       "      <th>2</th>\n",
       "      <td>8</td>\n",
       "      <td>183.0</td>\n",
       "      <td>64.0</td>\n",
       "      <td>NaN</td>\n",
       "      <td>NaN</td>\n",
       "      <td>23.3</td>\n",
       "      <td>0.672</td>\n",
       "      <td>32</td>\n",
       "      <td>1</td>\n",
       "    </tr>\n",
       "    <tr>\n",
       "      <th>3</th>\n",
       "      <td>1</td>\n",
       "      <td>89.0</td>\n",
       "      <td>66.0</td>\n",
       "      <td>23.0</td>\n",
       "      <td>94.0</td>\n",
       "      <td>28.1</td>\n",
       "      <td>0.167</td>\n",
       "      <td>21</td>\n",
       "      <td>0</td>\n",
       "    </tr>\n",
       "    <tr>\n",
       "      <th>4</th>\n",
       "      <td>0</td>\n",
       "      <td>137.0</td>\n",
       "      <td>40.0</td>\n",
       "      <td>35.0</td>\n",
       "      <td>168.0</td>\n",
       "      <td>43.1</td>\n",
       "      <td>2.288</td>\n",
       "      <td>33</td>\n",
       "      <td>1</td>\n",
       "    </tr>\n",
       "  </tbody>\n",
       "</table>\n",
       "</div>"
      ],
      "text/plain": [
       "   Pregnancies  Glucose  BloodPressure  SkinThickness  Insulin   BMI  \\\n",
       "0            6    148.0           72.0           35.0      NaN  33.6   \n",
       "1            1     85.0           66.0           29.0      NaN  26.6   \n",
       "2            8    183.0           64.0            NaN      NaN  23.3   \n",
       "3            1     89.0           66.0           23.0     94.0  28.1   \n",
       "4            0    137.0           40.0           35.0    168.0  43.1   \n",
       "\n",
       "   DiabetesPedigreeFunction  Age  Outcome  \n",
       "0                     0.627   50        1  \n",
       "1                     0.351   31        0  \n",
       "2                     0.672   32        1  \n",
       "3                     0.167   21        0  \n",
       "4                     2.288   33        1  "
      ]
     },
     "metadata": {},
     "execution_count": 1307
    }
   ],
   "metadata": {}
  },
  {
   "cell_type": "code",
   "execution_count": 1308,
   "source": [
    "print('Number of missing Values per Feature: ')\r\n",
    "print(df.isna().sum())"
   ],
   "outputs": [
    {
     "output_type": "stream",
     "name": "stdout",
     "text": [
      "Number of missing Values per Feature: \n",
      "Pregnancies                   0\n",
      "Glucose                       5\n",
      "BloodPressure                35\n",
      "SkinThickness               227\n",
      "Insulin                     374\n",
      "BMI                          11\n",
      "DiabetesPedigreeFunction      0\n",
      "Age                           0\n",
      "Outcome                       0\n",
      "dtype: int64\n"
     ]
    }
   ],
   "metadata": {}
  },
  {
   "cell_type": "markdown",
   "source": [
    "**Task 2**: Import the [SimpleImputer](https://scikit-learn.org/stable/modules/generated/sklearn.impute.SimpleImputer.html) class from sklearn.impute, then use the mean as strategy to replace all NaNs, fit and transform the modfied data frame (using the fit_transform() function) and print again the number of missing values for each feature. [2 marks]"
   ],
   "metadata": {}
  },
  {
   "cell_type": "code",
   "execution_count": 1309,
   "source": [
    "from sklearn.impute import SimpleImputer\r\n",
    "\r\n",
    "impute_mean = SimpleImputer(missing_values = np.nan, strategy = 'mean')\r\n",
    "for x in df.columns:\r\n",
    "    if x != 'Pregnancies':\r\n",
    "        if x != 'Outcome':\r\n",
    "            impute_mean = impute_mean.fit(df[[x]])\r\n",
    "            df[x] = impute_mean.transform(df[[x]])\r\n",
    "\r\n",
    "print('Number of missing values per Feature')\r\n",
    "print(df.isna().sum())\r\n"
   ],
   "outputs": [
    {
     "output_type": "stream",
     "name": "stdout",
     "text": [
      "Number of missing values per Feature\n",
      "Pregnancies                 0\n",
      "Glucose                     0\n",
      "BloodPressure               0\n",
      "SkinThickness               0\n",
      "Insulin                     0\n",
      "BMI                         0\n",
      "DiabetesPedigreeFunction    0\n",
      "Age                         0\n",
      "Outcome                     0\n",
      "dtype: int64\n"
     ]
    }
   ],
   "metadata": {}
  },
  {
   "cell_type": "markdown",
   "source": [
    "## B. Scaling"
   ],
   "metadata": {}
  },
  {
   "cell_type": "markdown",
   "source": [
    "Distribution of values before scaling."
   ],
   "metadata": {}
  },
  {
   "cell_type": "code",
   "execution_count": 1310,
   "source": [
    "plt.figure(figsize = (14, 7))\r\n",
    "sns.boxplot(data = df)\r\n"
   ],
   "outputs": [
    {
     "output_type": "execute_result",
     "data": {
      "text/plain": [
       "<AxesSubplot:>"
      ]
     },
     "metadata": {},
     "execution_count": 1310
    },
    {
     "output_type": "display_data",
     "data": {
      "image/png": "[encoded data removed]",
      "text/plain": [
       "<Figure size 1008x504 with 1 Axes>"
      ]
     },
     "metadata": {
      "needs_background": "light"
     }
    }
   ],
   "metadata": {}
  },
  {
   "cell_type": "markdown",
   "source": [
    "**Task 3:** Import the [MinMaxScaler](https://scikit-learn.org/stable/modules/generated/sklearn.preprocessing.MinMaxScaler.html?highlight=minmaxscaler#sklearn.preprocessing.MinMaxScaler) class from sklearn.preprocessing, fit and transform the data and plot the normalised data (using a seaborn boxplot) in order to display the distribution of values after scaling (as illustrated below). [2 marks]"
   ],
   "metadata": {}
  },
  {
   "cell_type": "code",
   "execution_count": 1311,
   "source": [
    "from sklearn.preprocessing import MinMaxScaler\r\n",
    "\r\n",
    "NormalisedFunction = MinMaxScaler()\r\n",
    "for x in df.columns:\r\n",
    "    NormalisedFunction = NormalisedFunction.fit(df[[x]])\r\n",
    "    df[x] = NormalisedFunction.transform(df[[x]])\r\n",
    "plt.figure(figsize= (14, 7))\r\n",
    "\r\n",
    "sns.boxplot(data = df)"
   ],
   "outputs": [
    {
     "output_type": "execute_result",
     "data": {
      "text/plain": [
       "<AxesSubplot:>"
      ]
     },
     "metadata": {},
     "execution_count": 1311
    },
    {
     "output_type": "display_data",
     "data": {
      "image/png": "[encoded data removed]",
      "text/plain": [
       "<Figure size 1008x504 with 1 Axes>"
      ]
     },
     "metadata": {
      "needs_background": "light"
     }
    }
   ],
   "metadata": {}
  },
  {
   "cell_type": "markdown",
   "source": [
    "**Task 4**: Import the [train_test_split](https://scikit-learn.org/stable/modules/generated/sklearn.model_selection.train_test_split.html?highlight=train_test_split#sklearn.model_selection.train_test_split) function from sklearn.model and split the data frame into a training set (X_train, y_train) and a test set (X_test, y_test), use 0.2 as test size and the previously defined random_state parameter (42). [1 mark]"
   ],
   "metadata": {}
  },
  {
   "cell_type": "code",
   "execution_count": 1312,
   "source": [
    "from sklearn.model_selection import train_test_split\r\n",
    "\r\n",
    "x = df.iloc[:,:8].values\r\n",
    "y = df.iloc[:,-1].values\r\n",
    "x_train, x_test, y_train, y_test = train_test_split(x, y, test_size = 0.2, random_state = 42)"
   ],
   "outputs": [],
   "metadata": {}
  },
  {
   "cell_type": "markdown",
   "source": [
    "## C. Train and Evaluate the Model"
   ],
   "metadata": {}
  },
  {
   "cell_type": "markdown",
   "source": [
    "**Task 5**: Import the [KNeighborsClassifier](https://scikit-learn.org/stable/modules/generated/sklearn.neighbors.KNeighborsClassifier.html) from sklearn.neighbors, set n_neighbors to 5, fit the model, make predications (using X_test) and report the accuracy of the classifier (using the [classification_report](https://scikit-learn.org/stable/modules/generated/sklearn.metrics.classification_report.html?highlight=classification_report#sklearn.metrics.classification_report) function from sklearn.metrics). [2 marks]"
   ],
   "metadata": {}
  },
  {
   "cell_type": "code",
   "execution_count": 1313,
   "source": [
    "from sklearn.neighbors import KNeighborsClassifier\r\n",
    "from sklearn.metrics import classification_report\r\n",
    "\r\n",
    "clf = KNeighborsClassifier(n_neighbors=5)\r\n",
    "clf.fit(x_train,y_train)\r\n",
    "y_pred = clf.predict(x_test)\r\n",
    "target_names = ['Outcome = 0', 'Outcome = 1']\r\n",
    "print(classification_report(y_test, y_pred, target_names=target_names))"
   ],
   "outputs": [
    {
     "output_type": "stream",
     "name": "stdout",
     "text": [
      "              precision    recall  f1-score   support\n",
      "\n",
      " Outcome = 0       0.81      0.81      0.81        99\n",
      " Outcome = 1       0.65      0.65      0.65        55\n",
      "\n",
      "    accuracy                           0.75       154\n",
      "   macro avg       0.73      0.73      0.73       154\n",
      "weighted avg       0.75      0.75      0.75       154\n",
      "\n"
     ]
    }
   ],
   "metadata": {}
  },
  {
   "cell_type": "markdown",
   "source": [
    "**Task 6:** Import the [cross_val_score](https://scikit-learn.org/stable/modules/generated/sklearn.model_selection.cross_val_score.html?highlight=cross_val_score#sklearn.model_selection.cross_val_score) function from sklearn.model_selection, use 10-fold cross validation and report the accuracy of the classifier. Note for cross validation you don't use the train/test split. [2 marks]"
   ],
   "metadata": {}
  },
  {
   "cell_type": "code",
   "execution_count": 1314,
   "source": [
    "from sklearn.model_selection import cross_val_score \r\n",
    "\r\n",
    "accuracy = cross_val_score(clf, x, y, cv = 10)\r\n",
    "print('Accuracy: %.2f (+/- %.2f)' % (np.mean(accuracy), np.std(accuracy*2)))\r\n"
   ],
   "outputs": [
    {
     "output_type": "stream",
     "name": "stdout",
     "text": [
      "Accuracy: 0.75 (+/- 0.11)\n"
     ]
    }
   ],
   "metadata": {}
  },
  {
   "cell_type": "markdown",
   "source": [
    "**Task 7**: Import the [cross_val_predict](https://scikit-learn.org/stable/modules/generated/sklearn.model_selection.cross_val_predict.html?highlight=cross_val_predict#sklearn.model_selection.cross_val_predict) function from sklearn.model_selection and compute again precision, recall and F1-score for the classifier. The output will look similar to the output of Task 5. [2 marks]"
   ],
   "metadata": {}
  },
  {
   "cell_type": "code",
   "execution_count": 1315,
   "source": [
    "from sklearn.model_selection import cross_val_predict\r\n",
    "\r\n",
    "y_pred2 = cross_val_predict(clf,x, y, cv = 10)\r\n",
    "print(classification_report(y,y_pred2,target_names = target_names))"
   ],
   "outputs": [
    {
     "output_type": "stream",
     "name": "stdout",
     "text": [
      "              precision    recall  f1-score   support\n",
      "\n",
      " Outcome = 0       0.80      0.82      0.81       500\n",
      " Outcome = 1       0.65      0.62      0.64       268\n",
      "\n",
      "    accuracy                           0.75       768\n",
      "   macro avg       0.73      0.72      0.72       768\n",
      "weighted avg       0.75      0.75      0.75       768\n",
      "\n"
     ]
    }
   ],
   "metadata": {}
  },
  {
   "cell_type": "markdown",
   "source": [
    "**Task 8**: Generate a confusion matrix using [confusion_matrix](https://scikit-learn.org/stable/modules/generated/sklearn.metrics.confusion_matrix.html) and use a [heatmap](https://seaborn.pydata.org/generated/seaborn.heatmap.html) from the seaborn library to display the number and percentage of true negatives, false positives, false negatives, and true positives (as illustrated below). [2 marks]"
   ],
   "metadata": {}
  },
  {
   "cell_type": "code",
   "execution_count": 1316,
   "source": [
    "from sklearn.metrics import confusion_matrix\r\n",
    "import seaborn as sns\r\n",
    "\r\n",
    "titles = np.array([[\"TrueNeg\",\"FalsePos\"],[\"FalseNeg\", \"TruePos\"]])\r\n",
    "CFMX = confusion_matrix(y, y_pred2)\r\n",
    "text = (np.asarray([\"{0}\\n{1}\\n{2:.2f}%\".format(text, data, percentage) for \r\n",
    "                              text, data, percentage in zip(titles.flatten(), CFMX.flatten(), CFMX.flatten()/np.sum(CFMX)*100)])).reshape(2,2)\r\n",
    "sns.heatmap(CFMX, annot = text, fmt=\"\", cmap = \"coolwarm\")\r\n"
   ],
   "outputs": [
    {
     "output_type": "execute_result",
     "data": {
      "text/plain": [
       "<AxesSubplot:>"
      ]
     },
     "metadata": {},
     "execution_count": 1316
    },
    {
     "output_type": "display_data",
     "data": {
      "image/png": "[encoded data removed]",
      "text/plain": [
       "<Figure size 432x288 with 2 Axes>"
      ]
     },
     "metadata": {
      "needs_background": "light"
     }
    }
   ],
   "metadata": {}
  },
  {
   "cell_type": "markdown",
   "source": [
    "**Task 9**: Evaluate alternative values for K from 1 to 30 and plot the error rate versus the K-values (as illustrated below). [2 marks]"
   ],
   "metadata": {}
  },
  {
   "cell_type": "code",
   "execution_count": 1321,
   "source": [
    "from sklearn.neighbors import KNeighborsClassifier\r\n",
    "\r\n",
    "k_range = range(1, 31)\r\n",
    "list = []\r\n",
    "for k in k_range:\r\n",
    "    newKnn = KNeighborsClassifier(n_neighbors=k).fit(x_train, y_train)\r\n",
    "    y_pred3 = newKnn.predict(x_test)\r\n",
    "    list.append(np.mean(y_pred3 != y_test))\r\n",
    "plt.plot(k_range,list, color = 'blue', linestyle = 'dashed', marker = 'o', markerfacecolor = 'yellow', markersize = 7)\r\n",
    "plt.xlabel('K-Values')\r\n",
    "plt.ylabel('Error Rate')\r\n",
    "plt.title('Error Rate vs. K-Values')\r\n",
    "plt.show()"
   ],
   "outputs": [
    {
     "output_type": "display_data",
     "data": {
      "image/png": "[encoded data removed]",
      "text/plain": [
       "<Figure size 432x288 with 1 Axes>"
      ]
     },
     "metadata": {
      "needs_background": "light"
     }
    }
   ],
   "metadata": {}
  },
  {
   "cell_type": "markdown",
   "source": [
    "**Task 10:** Use the logistic regression classifier ([LogisticRegression](https://scikit-learn.org/stable/modules/generated/sklearn.linear_model.LogisticRegression.html?highlight=logisticregression#sklearn.linear_model.LogisticRegression), default setting), fit the model, make predictions, and report the results using a classification report. [1 mark]"
   ],
   "metadata": {}
  },
  {
   "cell_type": "code",
   "execution_count": 1322,
   "source": [
    "from sklearn.linear_model import LogisticRegression\r\n",
    "\r\n",
    "clf2 = LogisticRegression(random_state=0).fit(x, y)\r\n",
    "clf2.fit(x_train,y_train)\r\n",
    "y_pred = clf2.predict(x_test)\r\n",
    "target_names = ['Outcome = 0', 'Outcome = 1']\r\n",
    "print(classification_report(y_test, y_pred, target_names=target_names))\r\n"
   ],
   "outputs": [
    {
     "output_type": "stream",
     "name": "stdout",
     "text": [
      "              precision    recall  f1-score   support\n",
      "\n",
      " Outcome = 0       0.80      0.88      0.84        99\n",
      " Outcome = 1       0.73      0.60      0.66        55\n",
      "\n",
      "    accuracy                           0.78       154\n",
      "   macro avg       0.77      0.74      0.75       154\n",
      "weighted avg       0.78      0.78      0.77       154\n",
      "\n"
     ]
    }
   ],
   "metadata": {}
  },
  {
   "cell_type": "markdown",
   "source": [
    "**Task 11:** Use the support vector classifier ([SVC](https://scikit-learn.org/stable/modules/generated/sklearn.svm.SVC.html), default setting), fit the model, make predictions, and report the results using a classification report. [1 mark]"
   ],
   "metadata": {}
  },
  {
   "cell_type": "code",
   "execution_count": 1323,
   "source": [
    "from sklearn import svm\r\n",
    "\r\n",
    "clf3 = svm.SVC()\r\n",
    "clf3.fit(x_train,y_train)\r\n",
    "y_pred = clf3.predict(x_test)\r\n",
    "target_names = ['Outcome = 0', 'Outcome = 1']\r\n",
    "print(classification_report(y_test, y_pred, target_names=target_names))\r\n"
   ],
   "outputs": [
    {
     "output_type": "stream",
     "name": "stdout",
     "text": [
      "              precision    recall  f1-score   support\n",
      "\n",
      " Outcome = 0       0.79      0.86      0.82        99\n",
      " Outcome = 1       0.70      0.58      0.63        55\n",
      "\n",
      "    accuracy                           0.76       154\n",
      "   macro avg       0.74      0.72      0.73       154\n",
      "weighted avg       0.75      0.76      0.75       154\n",
      "\n"
     ]
    }
   ],
   "metadata": {}
  },
  {
   "cell_type": "markdown",
   "source": [
    "**Task 12:** Use the random forest classifier ([RandomForestClassifier](https://scikit-learn.org/stable/modules/generated/sklearn.ensemble.RandomForestClassifier.html?highlight=randomforest), default setting), fit the model, make predictions, and report the results using a classification report. [1 mark]"
   ],
   "metadata": {}
  },
  {
   "cell_type": "code",
   "execution_count": 1324,
   "source": [
    "from sklearn.ensemble import RandomForestClassifier\r\n",
    "\r\n",
    "clf4 = RandomForestClassifier(max_depth=6, random_state=6)\r\n",
    "clf4.fit(x_train,y_train)\r\n",
    "y_pred = clf4.predict(x_test)\r\n",
    "target_names = ['Outcome = 0', 'Outcome = 1']\r\n",
    "print(classification_report(y_test, y_pred, target_names=target_names))\r\n",
    "\r\n"
   ],
   "outputs": [
    {
     "output_type": "stream",
     "name": "stdout",
     "text": [
      "              precision    recall  f1-score   support\n",
      "\n",
      " Outcome = 0       0.81      0.81      0.81        99\n",
      " Outcome = 1       0.65      0.65      0.65        55\n",
      "\n",
      "    accuracy                           0.75       154\n",
      "   macro avg       0.73      0.73      0.73       154\n",
      "weighted avg       0.75      0.75      0.75       154\n",
      "\n"
     ]
    }
   ],
   "metadata": {}
  }
 ],
 "metadata": {
  "hide_input": false,
  "kernelspec": {
   "name": "python3",
   "display_name": "Python 3.8.8 64-bit ('base': conda)"
  },
  "language_info": {
   "codemirror_mode": {
    "name": "ipython",
    "version": 3
   },
   "file_extension": ".py",
   "mimetype": "text/x-python",
   "name": "python",
   "nbconvert_exporter": "python",
   "pygments_lexer": "ipython3",
   "version": "3.8.8"
  },
  "interpreter": {
   "hash": "a0be7f60f539fb4a1d9d893164dfd5a3ed5aec8f3b3ff9d325628148abf9e143"
  }
 },
 "nbformat": 4,
 "nbformat_minor": 2
}